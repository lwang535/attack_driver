{
 "cells": [
  {
   "cell_type": "markdown",
   "metadata": {},
   "source": [
    "\n",
    "\n",
    "\n",
    "|#  |TRUE | FALSE |\n",
    "|----|----|--|\n",
    "| Positive | TP | FP |\n",
    "| Negative | TN | FN |\n",
    "\n",
    "### 全是1的情况\n",
    "TP = # True; FP = # False\n",
    "\n",
    "TN = 0; FN = 0\n",
    "$$Precision = \\frac{TP}{TP+FP}=\\% True$$\n",
    "$$Recall = \\frac{TP}{TP+FN}=1$$\n",
    "$$F1 score = \\% True$$\n",
    "\n",
    "### 全是0的情况\n",
    "TN = # True; FN = # False\n",
    "\n",
    "TP = 0; FP = 0\n",
    "$$Precision = \\frac{TP}{TP+FP}=?$$\n",
    "$$Recall = \\frac{TP}{TP+FN}=0$$\n",
    "$$F1 score = 0$$\n",
    "\n",
    "就咱们目前的情况，test set的情况应该是正样本比例11.3%的样子。\n",
    "以下是我们train data的情况。\n",
    "|target| \\% Count|\n",
    "|--|--|\n",
    "|0|93.63%|\n",
    "|1|6.37%|"
   ]
  }
 ],
 "metadata": {
  "kernelspec": {
   "display_name": "Python 3",
   "language": "python",
   "name": "python3"
  },
  "language_info": {
   "codemirror_mode": {
    "name": "ipython",
    "version": 3
   },
   "file_extension": ".py",
   "mimetype": "text/x-python",
   "name": "python",
   "nbconvert_exporter": "python",
   "pygments_lexer": "ipython3",
   "version": "3.7.0"
  }
 },
 "nbformat": 4,
 "nbformat_minor": 2
}
